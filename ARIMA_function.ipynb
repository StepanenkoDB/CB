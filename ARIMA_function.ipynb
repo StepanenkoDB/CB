{
 "cells": [
  {
   "cell_type": "code",
   "execution_count": 1,
   "metadata": {
    "collapsed": true
   },
   "outputs": [],
   "source": [
    "import warnings\n",
    "warnings.filterwarnings(\"ignore\")"
   ]
  },
  {
   "cell_type": "code",
   "execution_count": 4,
   "metadata": {
    "collapsed": true
   },
   "outputs": [],
   "source": [
    "import pandas as pd\n",
    "from statsmodels.tsa.seasonal import seasonal_decompose\n",
    "import matplotlib.pyplot as plt\n",
    "from statsmodels.tsa.stattools import adfuller\n",
    "from statsmodels.graphics.tsaplots import plot_acf\n",
    "from statsmodels.graphics.tsaplots import plot_pacf\n",
    "from statsmodels.tsa.arima_model import ARIMA\n",
    "from sklearn.metrics import mean_squared_error as mse\n",
    "import numpy as np"
   ]
  },
  {
   "cell_type": "markdown",
   "metadata": {},
   "source": [
    "# <center>Reading data</center>"
   ]
  },
  {
   "cell_type": "code",
   "execution_count": 5,
   "metadata": {},
   "outputs": [],
   "source": [
    "df_xl = pd.read_excel('test.xls', sheetname=\"Data\" ,dtype={ '_5000': float})\n",
    "df_xl = df_xl.drop(['_10','_50','_100','_500','_1000'], axis=1)\n",
    "\n",
    "df_xl.reset_index(inplace=True)\n",
    "df_xl['Date'] = pd.to_datetime(df_xl['DATE'])\n",
    "df_xl = df_xl.set_index('DATE')"
   ]
  },
  {
   "cell_type": "code",
   "execution_count": 6,
   "metadata": {
    "collapsed": true
   },
   "outputs": [],
   "source": [
    "def ARIMA_X_ARIMA(df_ts,amount_of_years):\n",
    "    # First ARIMA\n",
    "    model1 = ARIMA(df_ts._5000[:-12], order=(2,0,2))\n",
    "    model_fit1 = model1.fit(disp=0)\n",
    "    output_ARIMA1 = model_fit1.forecast(steps=12)[0]\n",
    "    \n",
    "    train_jan = pd.DataFrame()\n",
    "    train_feb = pd.DataFrame()\n",
    "    train_mar = pd.DataFrame()\n",
    "    train_apr = pd.DataFrame()\n",
    "    train_may = pd.DataFrame()\n",
    "    train_jun = pd.DataFrame()\n",
    "    train_jul = pd.DataFrame()\n",
    "    train_aug = pd.DataFrame()\n",
    "    train_sep = pd.DataFrame()\n",
    "    train_oct = pd.DataFrame()\n",
    "    train_nov = pd.DataFrame()\n",
    "    train_dec = pd.DataFrame()\n",
    "\n",
    "    for i in range(amount_of_years):\n",
    "        train_jan = train_jan.append(df_xl.ix[0+i*12])\n",
    "        train_feb = train_feb.append(df_xl.ix[1+i*12])\n",
    "        train_mar = train_mar.append(df_xl.ix[2+i*12])\n",
    "        train_apr = train_apr.append(df_xl.ix[3+i*12])\n",
    "        train_may = train_may.append(df_xl.ix[4+i*12])\n",
    "        train_jun = train_jun.append(df_xl.ix[5+i*12])\n",
    "        train_jul = train_jul.append(df_xl.ix[6+i*12])\n",
    "        train_aug = train_aug.append(df_xl.ix[7+i*12])\n",
    "        train_sep = train_sep.append(df_xl.ix[8+i*12])\n",
    "        train_oct = train_oct.append(df_xl.ix[9+i*12])\n",
    "        train_nov = train_nov.append(df_xl.ix[10+i*12])\n",
    "        train_dec = train_dec.append(df_xl.ix[11+i*12])\n",
    "        \n",
    "    arima2_result = np.array([])\n",
    "    arima2_train_data = [[train_jan], \n",
    "                     [train_feb], \n",
    "                     [train_mar], \n",
    "                     [train_apr], \n",
    "                     [train_may], \n",
    "                     [train_jun], \n",
    "                     [train_jul], \n",
    "                     [train_aug], \n",
    "                     [train_sep],\n",
    "                     [train_oct],\n",
    "                     [train_nov],\n",
    "                     [train_dec]\n",
    "                    ]\n",
    "    \n",
    "    for i in range(12):\n",
    "        model2 = ARIMA(arima2_train_data[i][0]._5000, order=(1,0,0))\n",
    "        model_fit2 = model2.fit(disp=0)\n",
    "        arima2_month_forecast = model_fit2.forecast(steps=1)[0]\n",
    "        arima2_result = np.append(arima2_result,arima2_month_forecast)\n",
    "        \n",
    "    arima2_result = np.nan_to_num(arima2_result)\n",
    "    \n",
    "    z = df_ts._5000[-12:]\n",
    "    arima1 = output_ARIMA1\n",
    "    arima2 = arima2_result\n",
    "    \n",
    "    alpha_12 = np.array([])\n",
    "    for i in range(12):\n",
    "        alpha_12 = np.append(alpha_12,np.array([(z[i]-arima2[i])/(arima1[i]-arima2[i])]))\n",
    "        \n",
    "    alpha_12 = alpha_12[(alpha_12 <= 1.0) & (alpha_12 >= 0.0)]\n",
    "    \n",
    "    alpha = np.mean(alpha_12)\n",
    "    beta = 1. - alpha\n",
    "    final_forecast = np.array([])\n",
    "    \n",
    "    for i in range(12):\n",
    "        final_forecast = np.append(final_forecast, alpha*arima1[i]+beta*arima2[i])\n",
    "        \n",
    "    mse_result = mse(final_forecast,df_ts._5000[-12:])\n",
    "    \n",
    "    plt.plot(df_xl.index[-12:],df_xl._5000[-12:], color='b', label='Real')\n",
    "    plt.plot(df_xl.index[-12:],final_forecast, color='r', label='Forecasted')\n",
    "    plt.grid(color='#999999', linestyle='dashed', linewidth=1, alpha=0.8)\n",
    "    plt.legend(bbox_to_anchor=(0., 1.02, 1., .102), loc=3, ncol=2, mode=\"expand\", borderaxespad=0.)\n",
    "    plt.xlabel('День')\n",
    "    plt.xticks(rotation=45, ha='right')\n",
    "    plt.ylabel('Значение')\n",
    "    plt.show()\n",
    "    \n",
    "    return (final_forecast,mse_result)"
   ]
  },
  {
   "cell_type": "code",
   "execution_count": 7,
   "metadata": {},
   "outputs": [
    {
     "name": "stderr",
     "output_type": "stream",
     "text": [
      "C:\\ProgramData\\Anaconda3\\lib\\site-packages\\statsmodels\\base\\model.py:496: ConvergenceWarning: Maximum Likelihood optimization failed to converge. Check mle_retvals\n",
      "  \"Check mle_retvals\", ConvergenceWarning)\n",
      "C:\\ProgramData\\Anaconda3\\lib\\site-packages\\statsmodels\\base\\model.py:496: ConvergenceWarning: Maximum Likelihood optimization failed to converge. Check mle_retvals\n",
      "  \"Check mle_retvals\", ConvergenceWarning)\n",
      "C:\\ProgramData\\Anaconda3\\lib\\site-packages\\statsmodels\\base\\model.py:496: ConvergenceWarning: Maximum Likelihood optimization failed to converge. Check mle_retvals\n",
      "  \"Check mle_retvals\", ConvergenceWarning)\n",
      "C:\\ProgramData\\Anaconda3\\lib\\site-packages\\statsmodels\\base\\model.py:496: ConvergenceWarning: Maximum Likelihood optimization failed to converge. Check mle_retvals\n",
      "  \"Check mle_retvals\", ConvergenceWarning)\n"
     ]
    },
    {
     "data": {
      "image/png": "[encoded data removed]",
      "text/plain": [
       "<matplotlib.figure.Figure at 0x14cc423fd0>"
      ]
     },
     "metadata": {},
     "output_type": "display_data"
    }
   ],
   "source": [
    "a,b = ARIMA_X_ARIMA(df_xl,3)"
   ]
  },
  {
   "cell_type": "code",
   "execution_count": 8,
   "metadata": {},
   "outputs": [
    {
     "name": "stdout",
     "output_type": "stream",
     "text": [
      "[ -3813812.30566544   3202850.02453935   4888774.46111664\n",
      "  11450307.00128902   5325279.79639007   9602601.84874697\n",
      "   7064592.26601777   3789874.46500832   5978902.79112634\n",
      "   3795509.39169105   3703933.13181896   3796810.25998719] 2.57948724397e+13\n"
     ]
    }
   ],
   "source": [
    "print(a,b)"
   ]
  },
  {
   "cell_type": "code",
   "execution_count": null,
   "metadata": {
    "collapsed": true
   },
   "outputs": [],
   "source": []
  }
 ],
 "metadata": {
  "kernelspec": {
   "display_name": "Python 3",
   "language": "python",
   "name": "python3"
  },
  "language_info": {
   "codemirror_mode": {
    "name": "ipython",
    "version": 3
   },
   "file_extension": ".py",
   "mimetype": "text/x-python",
   "name": "python",
   "nbconvert_exporter": "python",
   "pygments_lexer": "ipython3",
   "version": "3.6.3"
  }
 },
 "nbformat": 4,
 "nbformat_minor": 2
}
